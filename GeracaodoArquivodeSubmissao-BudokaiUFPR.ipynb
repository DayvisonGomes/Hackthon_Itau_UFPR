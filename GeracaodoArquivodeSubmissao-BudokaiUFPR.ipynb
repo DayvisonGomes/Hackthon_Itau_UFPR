{
 "cells": [
  {
   "cell_type": "markdown",
   "metadata": {},
   "source": [
    "## **Código de Geração do Arquivo de Submissão**\n",
    "\n",
    "\n",
    "#### Objetivo -> O intuito desse código é fazer as devidas transformações no arquivo CSV gerado pelo modelo para deixar no padrão final que deverá ser submetido pelo time no site (http://thundera.budokai:5455/).\n",
    "\n",
    "\n",
    "#### OBS: O arquivo de submissão deve conter as seguintes colunas obrigatórias: \n",
    "\n",
    "                                      codigo_ibge, 2018, 2019, 2020\n",
    "      \n",
    "   #### Sendo que teremos um total de 20 códigos do IBGE obrigatórios que deverão estar contidos no arquivo CSV, sendo eles:\n",
    "  \n",
    "                                            4102000\n",
    "                                            4104303\n",
    "                                            4104428\n",
    "                                            4104808\n",
    "                                            4104907\n",
    "                                            4109401\n",
    "                                            4113205\n",
    "                                            4113700\n",
    "                                            4113734\n",
    "                                            4114005\n",
    "                                            4114401\n",
    "                                            4117701\n",
    "                                            4117909\n",
    "                                            4119608\n",
    "                                            4119905\n",
    "                                            4127007\n",
    "                                            4127403\n",
    "                                            4127502\n",
    "                                            4127700\n",
    "                                            4128005  \n",
    "  \n",
    " #### OBS: Qualquer dúvida, favor entrar em contato com o staff do Budokai."
   ]
  },
  {
   "cell_type": "code",
   "execution_count": 12,
   "metadata": {},
   "outputs": [],
   "source": [
    "import pandas as pd"
   ]
  },
  {
   "cell_type": "code",
   "execution_count": 13,
   "metadata": {},
   "outputs": [],
   "source": [
    "# Leitura do arquivo que tem os valores previstos por ano (2018,2019 e 2020) do seu modelo, junto com os códigos do IBGE acima\n",
    "# Altere o nome do arquivo abaixo:\n",
    "\n",
    "file_submissao = pd.read_csv('submission_test_REDE.csv',sep=\",\", header=0)"
   ]
  },
  {
   "cell_type": "code",
   "execution_count": 14,
   "metadata": {},
   "outputs": [
    {
     "name": "stdout",
     "output_type": "stream",
     "text": [
      "Colunas corretas!\n"
     ]
    }
   ],
   "source": [
    "# Conferindo campos obrigatórios do arquivo de submissão\n",
    "\n",
    "if set(['codigo_ibge','2018','2019','2020']).issubset(file_submissao.columns):\n",
    "    print('Colunas corretas!')\n",
    "else:\n",
    "    print('As colunas codigo_ibge, 2018, 2019, 2020 são obrigatórias.')"
   ]
  },
  {
   "cell_type": "code",
   "execution_count": 15,
   "metadata": {},
   "outputs": [
    {
     "name": "stdout",
     "output_type": "stream",
     "text": [
      "Arquivo conferido com sucesso!\n"
     ]
    }
   ],
   "source": [
    "# Conferindo códigos do IBGE obrigatórios do arquivo de submissão\n",
    "\n",
    "df = pd.DataFrame({'codigos': [4102000,4104303,4104428,4104808,4104907,4109401,4113205,4113700,4113734,4114005,4114401,4117701,4117909,4119608,4119905,4127007,4127403,4127502,4127700,4128005\n",
    "]})\n",
    "check = df['codigos'].isin(file_submissao['codigo_ibge'])\n",
    "false_count = (~check).sum()\n",
    "\n",
    "if false_count != 0:\n",
    "    print('Existem ',false_count,'códigos errados na coluna codigo_ibge. Favor revisar os códigos na descrição acima.')\n",
    "else:\n",
    "    print('Arquivo conferido com sucesso!')"
   ]
  },
  {
   "cell_type": "code",
   "execution_count": 16,
   "metadata": {},
   "outputs": [
    {
     "data": {
      "text/html": [
       "<div>\n",
       "<style scoped>\n",
       "    .dataframe tbody tr th:only-of-type {\n",
       "        vertical-align: middle;\n",
       "    }\n",
       "\n",
       "    .dataframe tbody tr th {\n",
       "        vertical-align: top;\n",
       "    }\n",
       "\n",
       "    .dataframe thead th {\n",
       "        text-align: right;\n",
       "    }\n",
       "</style>\n",
       "<table border=\"1\" class=\"dataframe\">\n",
       "  <thead>\n",
       "    <tr style=\"text-align: right;\">\n",
       "      <th></th>\n",
       "      <th>Unnamed: 0</th>\n",
       "      <th>codigo_ibge</th>\n",
       "      <th>2018</th>\n",
       "      <th>2019</th>\n",
       "      <th>2020</th>\n",
       "    </tr>\n",
       "  </thead>\n",
       "  <tbody>\n",
       "    <tr>\n",
       "      <th>0</th>\n",
       "      <td>0</td>\n",
       "      <td>4102000</td>\n",
       "      <td>3941.2140</td>\n",
       "      <td>4129.0903</td>\n",
       "      <td>4347.1780</td>\n",
       "    </tr>\n",
       "    <tr>\n",
       "      <th>1</th>\n",
       "      <td>1</td>\n",
       "      <td>4104303</td>\n",
       "      <td>3923.5334</td>\n",
       "      <td>4122.9410</td>\n",
       "      <td>4329.0360</td>\n",
       "    </tr>\n",
       "    <tr>\n",
       "      <th>2</th>\n",
       "      <td>2</td>\n",
       "      <td>4104428</td>\n",
       "      <td>4180.5150</td>\n",
       "      <td>4369.2837</td>\n",
       "      <td>4600.1235</td>\n",
       "    </tr>\n",
       "    <tr>\n",
       "      <th>3</th>\n",
       "      <td>3</td>\n",
       "      <td>4104808</td>\n",
       "      <td>4183.4960</td>\n",
       "      <td>4395.2350</td>\n",
       "      <td>4613.7124</td>\n",
       "    </tr>\n",
       "    <tr>\n",
       "      <th>4</th>\n",
       "      <td>4</td>\n",
       "      <td>4104907</td>\n",
       "      <td>4242.9614</td>\n",
       "      <td>4454.1290</td>\n",
       "      <td>4676.7124</td>\n",
       "    </tr>\n",
       "    <tr>\n",
       "      <th>5</th>\n",
       "      <td>5</td>\n",
       "      <td>4109401</td>\n",
       "      <td>4250.4260</td>\n",
       "      <td>4442.5840</td>\n",
       "      <td>4676.9634</td>\n",
       "    </tr>\n",
       "    <tr>\n",
       "      <th>6</th>\n",
       "      <td>6</td>\n",
       "      <td>4113205</td>\n",
       "      <td>3739.5232</td>\n",
       "      <td>3928.5579</td>\n",
       "      <td>4125.0580</td>\n",
       "    </tr>\n",
       "    <tr>\n",
       "      <th>7</th>\n",
       "      <td>7</td>\n",
       "      <td>4113700</td>\n",
       "      <td>3324.1490</td>\n",
       "      <td>3489.6782</td>\n",
       "      <td>3658.7036</td>\n",
       "    </tr>\n",
       "    <tr>\n",
       "      <th>8</th>\n",
       "      <td>8</td>\n",
       "      <td>4113734</td>\n",
       "      <td>3731.0470</td>\n",
       "      <td>3925.4226</td>\n",
       "      <td>4117.0470</td>\n",
       "    </tr>\n",
       "    <tr>\n",
       "      <th>9</th>\n",
       "      <td>9</td>\n",
       "      <td>4114005</td>\n",
       "      <td>3855.2940</td>\n",
       "      <td>4052.4302</td>\n",
       "      <td>4252.4500</td>\n",
       "    </tr>\n",
       "    <tr>\n",
       "      <th>10</th>\n",
       "      <td>10</td>\n",
       "      <td>4114401</td>\n",
       "      <td>4278.9420</td>\n",
       "      <td>4490.5730</td>\n",
       "      <td>4712.4890</td>\n",
       "    </tr>\n",
       "    <tr>\n",
       "      <th>11</th>\n",
       "      <td>11</td>\n",
       "      <td>4117701</td>\n",
       "      <td>3996.6575</td>\n",
       "      <td>4193.2314</td>\n",
       "      <td>4402.8975</td>\n",
       "    </tr>\n",
       "    <tr>\n",
       "      <th>12</th>\n",
       "      <td>12</td>\n",
       "      <td>4117909</td>\n",
       "      <td>3980.3538</td>\n",
       "      <td>4166.0150</td>\n",
       "      <td>4385.1763</td>\n",
       "    </tr>\n",
       "    <tr>\n",
       "      <th>13</th>\n",
       "      <td>13</td>\n",
       "      <td>4119608</td>\n",
       "      <td>3517.5615</td>\n",
       "      <td>3693.5408</td>\n",
       "      <td>3873.6396</td>\n",
       "    </tr>\n",
       "    <tr>\n",
       "      <th>14</th>\n",
       "      <td>14</td>\n",
       "      <td>4119905</td>\n",
       "      <td>4219.5166</td>\n",
       "      <td>4435.7544</td>\n",
       "      <td>4652.1830</td>\n",
       "    </tr>\n",
       "    <tr>\n",
       "      <th>15</th>\n",
       "      <td>15</td>\n",
       "      <td>4127007</td>\n",
       "      <td>3950.7048</td>\n",
       "      <td>4147.3760</td>\n",
       "      <td>4349.2910</td>\n",
       "    </tr>\n",
       "    <tr>\n",
       "      <th>16</th>\n",
       "      <td>16</td>\n",
       "      <td>4127403</td>\n",
       "      <td>3710.2405</td>\n",
       "      <td>3891.7090</td>\n",
       "      <td>4088.8044</td>\n",
       "    </tr>\n",
       "    <tr>\n",
       "      <th>17</th>\n",
       "      <td>17</td>\n",
       "      <td>4127502</td>\n",
       "      <td>4206.1235</td>\n",
       "      <td>4412.9990</td>\n",
       "      <td>4626.0690</td>\n",
       "    </tr>\n",
       "    <tr>\n",
       "      <th>18</th>\n",
       "      <td>18</td>\n",
       "      <td>4127700</td>\n",
       "      <td>4071.0000</td>\n",
       "      <td>4273.7160</td>\n",
       "      <td>4483.9870</td>\n",
       "    </tr>\n",
       "    <tr>\n",
       "      <th>19</th>\n",
       "      <td>19</td>\n",
       "      <td>4128005</td>\n",
       "      <td>4085.6707</td>\n",
       "      <td>4285.4497</td>\n",
       "      <td>4490.2010</td>\n",
       "    </tr>\n",
       "  </tbody>\n",
       "</table>\n",
       "</div>"
      ],
      "text/plain": [
       "    Unnamed: 0  codigo_ibge       2018       2019       2020\n",
       "0            0      4102000  3941.2140  4129.0903  4347.1780\n",
       "1            1      4104303  3923.5334  4122.9410  4329.0360\n",
       "2            2      4104428  4180.5150  4369.2837  4600.1235\n",
       "3            3      4104808  4183.4960  4395.2350  4613.7124\n",
       "4            4      4104907  4242.9614  4454.1290  4676.7124\n",
       "5            5      4109401  4250.4260  4442.5840  4676.9634\n",
       "6            6      4113205  3739.5232  3928.5579  4125.0580\n",
       "7            7      4113700  3324.1490  3489.6782  3658.7036\n",
       "8            8      4113734  3731.0470  3925.4226  4117.0470\n",
       "9            9      4114005  3855.2940  4052.4302  4252.4500\n",
       "10          10      4114401  4278.9420  4490.5730  4712.4890\n",
       "11          11      4117701  3996.6575  4193.2314  4402.8975\n",
       "12          12      4117909  3980.3538  4166.0150  4385.1763\n",
       "13          13      4119608  3517.5615  3693.5408  3873.6396\n",
       "14          14      4119905  4219.5166  4435.7544  4652.1830\n",
       "15          15      4127007  3950.7048  4147.3760  4349.2910\n",
       "16          16      4127403  3710.2405  3891.7090  4088.8044\n",
       "17          17      4127502  4206.1235  4412.9990  4626.0690\n",
       "18          18      4127700  4071.0000  4273.7160  4483.9870\n",
       "19          19      4128005  4085.6707  4285.4497  4490.2010"
      ]
     },
     "execution_count": 16,
     "metadata": {},
     "output_type": "execute_result"
    }
   ],
   "source": [
    "file_submissao"
   ]
  },
  {
   "cell_type": "code",
   "execution_count": 17,
   "metadata": {},
   "outputs": [],
   "source": [
    "#Transformação e Ordenação temporal da tabela\n",
    "file_sub_unpivoted = file_submissao.melt(id_vars=['codigo_ibge'], var_name='Ano', value_name='Valor_Previsto')"
   ]
  },
  {
   "cell_type": "code",
   "execution_count": 18,
   "metadata": {},
   "outputs": [
    {
     "data": {
      "text/plain": [
       "0     4102000\n",
       "1     4104303\n",
       "2     4104428\n",
       "3     4104808\n",
       "4     4104907\n",
       "       ...   \n",
       "75    4127007\n",
       "76    4127403\n",
       "77    4127502\n",
       "78    4127700\n",
       "79    4128005\n",
       "Name: codigo_ibge, Length: 80, dtype: int64"
      ]
     },
     "execution_count": 18,
     "metadata": {},
     "output_type": "execute_result"
    }
   ],
   "source": [
    "file_sub_unpivoted['codigo_ibge']"
   ]
  },
  {
   "cell_type": "code",
   "execution_count": 19,
   "metadata": {},
   "outputs": [],
   "source": [
    "# Excluir coluna de tempo\n",
    "del file_sub_unpivoted[\"Ano\"]"
   ]
  },
  {
   "cell_type": "code",
   "execution_count": 20,
   "metadata": {},
   "outputs": [],
   "source": [
    "file_sub_unpivoted = file_sub_unpivoted.drop(file_sub_unpivoted.index[:20]).reset_index().drop(columns=['index'])"
   ]
  },
  {
   "cell_type": "code",
   "execution_count": 21,
   "metadata": {},
   "outputs": [],
   "source": [
    "#Geração do arquivo que será submetido\n",
    "#Altere o nome do arquivo CSV de saída\n",
    "file_sub_unpivoted.to_csv(\"submission_test_REDE.csv\", index=False)"
   ]
  },
  {
   "cell_type": "code",
   "execution_count": null,
   "metadata": {},
   "outputs": [],
   "source": []
  },
  {
   "cell_type": "code",
   "execution_count": null,
   "metadata": {},
   "outputs": [],
   "source": []
  }
 ],
 "metadata": {
  "kernelspec": {
   "display_name": "Python 3 (ipykernel)",
   "language": "python",
   "name": "python3"
  },
  "language_info": {
   "codemirror_mode": {
    "name": "ipython",
    "version": 3
   },
   "file_extension": ".py",
   "mimetype": "text/x-python",
   "name": "python",
   "nbconvert_exporter": "python",
   "pygments_lexer": "ipython3",
   "version": "3.9.7"
  }
 },
 "nbformat": 4,
 "nbformat_minor": 2
}
